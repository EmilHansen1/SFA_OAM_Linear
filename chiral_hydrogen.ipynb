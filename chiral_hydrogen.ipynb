{
 "cells": [
  {
   "cell_type": "code",
   "execution_count": 1,
   "metadata": {
    "collapsed": true
   },
   "outputs": [],
   "source": [
    "import numpy as np\n",
    "import matplotlib.pyplot as plt\n",
    "from itertools import repeat\n",
    "from extra_packages.OutputInterface import OutputInterface\n",
    "import extra_packages.sperhical_expansion as se\n",
    "import SFALinearPulse as SFA_Lin\n",
    "from matplotlib.colors import LogNorm\n",
    "from scipy.special import sph_harm"
   ]
  },
  {
   "cell_type": "code",
   "execution_count": 2,
   "outputs": [],
   "source": [
    "import multiprocessing\n",
    "#import ipyparallel as ipp\n",
    "try:\n",
    "    cpus = multiprocessing.cpu_count()\n",
    "except NotImplementedError:\n",
    "    cpus = 8   # arbitrary default\n",
    "pool = multiprocessing.Pool(processes=cpus)"
   ],
   "metadata": {
    "collapsed": false,
    "pycharm": {
     "name": "#%%\n"
    }
   }
  },
  {
   "cell_type": "code",
   "execution_count": 3,
   "outputs": [],
   "source": [
    "omega = 0.057     # Frequency of light\n",
    "Up = 0.22         # Ponderomotive potential\n",
    "CEP = np.pi/2"
   ],
   "metadata": {
    "collapsed": false,
    "pycharm": {
     "name": "#%%\n"
    }
   }
  },
  {
   "cell_type": "markdown",
   "source": [
    "### Let's try to expand the chiral hydrogen state..."
   ],
   "metadata": {
    "collapsed": false,
    "pycharm": {
     "name": "#%% md\n"
    }
   }
  },
  {
   "cell_type": "code",
   "execution_count": 29,
   "outputs": [],
   "source": [
    "def hyd_4d(r, theta, phi, m):\n",
    "    R_42 = 1/(64*np.sqrt(5)) * (1 - r/12) * r**2 * np.exp(-r/4)\n",
    "    return R_42 * sph_harm(m, 2, phi, theta)\n",
    "\n",
    "def hyd_4f(r, theta, phi, m):\n",
    "    R_43 = 1/(768*np.sqrt(35)) * r**3 * np.exp(-r/4)\n",
    "    return R_43 * sph_harm(m, 3, phi, theta)\n",
    "\n",
    "def hyd_rho(r, theta, phi, pm=1):\n",
    "    return 0.5 * (hyd_4d(r, theta, phi, pm) + 1j*hyd_4f(r, theta, phi, pm) - hyd_4d(r, theta, phi, -pm) + 1j*hyd_4f(r, theta, phi, -pm))\n",
    "\n",
    "rho_p = lambda r, theta, phi : hyd_rho(r, theta, phi, 1)\n",
    "rho_m = lambda r, theta, phi : hyd_rho(r, theta, phi, -1)\n",
    "\n",
    "Ip = 1/(2*4**2)\n",
    "kappa = np.sqrt(2 * Ip)"
   ],
   "metadata": {
    "collapsed": false,
    "pycharm": {
     "name": "#%%\n"
    }
   }
  },
  {
   "cell_type": "code",
   "execution_count": 30,
   "outputs": [
    {
     "name": "stdout",
     "output_type": "stream",
     "text": [
      "Evaluating at r=1.0000 \t Nr. 1/40\n",
      "Evaluating at r=1.2308 \t Nr. 2/40\n",
      "Evaluating at r=1.4615 \t Nr. 3/40\n",
      "Evaluating at r=1.6923 \t Nr. 4/40\n",
      "Evaluating at r=1.9231 \t Nr. 5/40\n",
      "Evaluating at r=2.1538 \t Nr. 6/40\n",
      "Evaluating at r=2.3846 \t Nr. 7/40\n",
      "Evaluating at r=2.6154 \t Nr. 8/40\n",
      "Evaluating at r=2.8462 \t Nr. 9/40\n",
      "Evaluating at r=3.0769 \t Nr. 10/40\n",
      "Evaluating at r=3.3077 \t Nr. 11/40\n",
      "Evaluating at r=3.5385 \t Nr. 12/40\n",
      "Evaluating at r=3.7692 \t Nr. 13/40\n",
      "Evaluating at r=4.0000 \t Nr. 14/40\n",
      "Evaluating at r=4.2308 \t Nr. 15/40\n",
      "Evaluating at r=4.4615 \t Nr. 16/40\n",
      "Evaluating at r=4.6923 \t Nr. 17/40\n",
      "Evaluating at r=4.9231 \t Nr. 18/40\n",
      "Evaluating at r=5.1538 \t Nr. 19/40\n",
      "Evaluating at r=5.3846 \t Nr. 20/40\n",
      "Evaluating at r=5.6154 \t Nr. 21/40\n",
      "Evaluating at r=5.8462 \t Nr. 22/40\n",
      "Evaluating at r=6.0769 \t Nr. 23/40\n",
      "Evaluating at r=6.3077 \t Nr. 24/40\n",
      "Evaluating at r=6.5385 \t Nr. 25/40\n",
      "Evaluating at r=6.7692 \t Nr. 26/40\n",
      "Evaluating at r=7.0000 \t Nr. 27/40\n",
      "Evaluating at r=7.2308 \t Nr. 28/40\n",
      "Evaluating at r=7.4615 \t Nr. 29/40\n",
      "Evaluating at r=7.6923 \t Nr. 30/40\n",
      "Evaluating at r=7.9231 \t Nr. 31/40\n",
      "Evaluating at r=8.1538 \t Nr. 32/40\n",
      "Evaluating at r=8.3846 \t Nr. 33/40\n",
      "Evaluating at r=8.6154 \t Nr. 34/40\n",
      "Evaluating at r=8.8462 \t Nr. 35/40\n",
      "Evaluating at r=9.0769 \t Nr. 36/40\n",
      "Evaluating at r=9.3077 \t Nr. 37/40\n",
      "Evaluating at r=9.5385 \t Nr. 38/40\n",
      "Evaluating at r=9.7692 \t Nr. 39/40\n",
      "Evaluating at r=10.0000 \t Nr. 40/40\n"
     ]
    }
   ],
   "source": [
    "n_r = 40\n",
    "r_lst = np.linspace(1, 10, n_r)\n",
    "flms = []\n",
    "for i, r in enumerate(r_lst):\n",
    "    print(f'Evaluating at r={r:.4f} \\t Nr. {i+1}/{n_r}')\n",
    "    flms.append(se.spherical_expansion(lambda theta, phi: rho_p(r, theta, phi), 50))"
   ],
   "metadata": {
    "collapsed": false,
    "pycharm": {
     "name": "#%%\n"
    }
   }
  },
  {
   "cell_type": "code",
   "execution_count": 36,
   "outputs": [
    {
     "data": {
      "text/plain": "<Figure size 432x288 with 1 Axes>",
      "image/png": "[encoded data removed]"
     },
     "metadata": {},
     "output_type": "display_data"
    }
   ],
   "source": [
    "plt.figure(facecolor='white')\n",
    "\n",
    "def radial(r, kappa):\n",
    "    return r**(1/kappa - 1) * np.exp(-kappa*r)\n",
    "\n",
    "sgn, l, m = 1,2,1\n",
    "#plt.plot(r_lst, np.array([output.eval_orbital_spherical(r, np.pi/2, 0) for r in r_lst])*100, label=r'$\\psi_0$')\n",
    "plt.plot(r_lst, np.abs(np.array(flms)[:, sgn, l, m])/radial(r_lst, kappa), label=r'$c_{\\ell m}$')\n",
    "#plt.plot(r_lst, np.abs(np.array(flms)[:, sgn, l, m]),  label=r'$f_{\\ell m}$')\n",
    "plt.legend(frameon=False)\n",
    "plt.xlabel(r'Radius $r$')\n",
    "plt.ylabel(r'Absolute amplitude')\n",
    "plt.minorticks_on()\n",
    "plt.xlim(r_lst[0], r_lst[-1])\n",
    "plt.ylim(bottom=0)\n",
    "plt.tight_layout()"
   ],
   "metadata": {
    "collapsed": false,
    "pycharm": {
     "name": "#%%\n"
    }
   }
  },
  {
   "cell_type": "code",
   "execution_count": null,
   "outputs": [],
   "source": [],
   "metadata": {
    "collapsed": false,
    "pycharm": {
     "name": "#%%\n"
    }
   }
  }
 ],
 "metadata": {
  "kernelspec": {
   "display_name": "Python 3",
   "language": "python",
   "name": "python3"
  },
  "language_info": {
   "codemirror_mode": {
    "name": "ipython",
    "version": 2
   },
   "file_extension": ".py",
   "mimetype": "text/x-python",
   "name": "python",
   "nbconvert_exporter": "python",
   "pygments_lexer": "ipython2",
   "version": "2.7.6"
  }
 },
 "nbformat": 4,
 "nbformat_minor": 0
}