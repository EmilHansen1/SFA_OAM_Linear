{
 "cells": [
  {
   "cell_type": "code",
   "execution_count": 1,
   "metadata": {
    "collapsed": true
   },
   "outputs": [],
   "source": [
    "import numpy as np\n",
    "import matplotlib.pyplot as plt\n",
    "from extra_packages import OutputInterface as oi\n",
    "from extra_packages import sperhical_expansion as se\n",
    "import SFALinearPulse as sfa_lin\n",
    "from matplotlib.colors import LogNorm\n",
    "from itertools import repeat"
   ]
  },
  {
   "cell_type": "code",
   "execution_count": 2,
   "outputs": [],
   "source": [
    "import multiprocessing\n",
    "\n",
    "try:\n",
    "    cpus = multiprocessing.cpu_count()\n",
    "except NotImplementedError:\n",
    "    cpus = 8   # arbitrary default\n",
    "\n",
    "pool = multiprocessing.Pool(processes=cpus)"
   ],
   "metadata": {
    "collapsed": false,
    "pycharm": {
     "name": "#%%\n"
    }
   }
  },
  {
   "cell_type": "code",
   "execution_count": 3,
   "outputs": [],
   "source": [
    "output = oi.OutputInterface('output_files/CHBrClF.out')\n",
    "Ip = abs(output.saved_orbitals[output.HOMO][0])\n",
    "kappa = np.sqrt(2*Ip)\n",
    "omega = 0.057     # Frequency of light\n",
    "Up = 0.22         # Ponderomotive potential\n",
    "CEP = np.pi/2\n",
    "N = 2\n",
    "\n",
    "gto_coeffs = np.array(output.output_GTOs())"
   ],
   "metadata": {
    "collapsed": false,
    "pycharm": {
     "name": "#%%\n"
    }
   }
  },
  {
   "cell_type": "code",
   "execution_count": null,
   "outputs": [],
   "source": [
    "dp = 4. / 150\n",
    "px_lst = np.arange(-1, 1, dp)\n",
    "pz_lst = np.arange(-1.5, 1.5, dp)\n",
    "py = 0.\n",
    "px_grd, pz_grd = np.meshgrid(px_lst, pz_lst)\n",
    "\n",
    "# GTO_MO\n",
    "sfa_mgto = sfa_lin.SFALinearPulse(Ip, Up, omega, N, CEP, 'GTO_MO_SPA')\n",
    "M_mgto_grd = np.array(pool.starmap(sfa_mgto.Mxz_List, zip(px_grd, repeat(py), pz_grd, repeat(gto_coeffs))))\n",
    "M_mgto_sqr = np.abs(np.flip(M_mgto_grd, 0))**2\n",
    "print('Modified GTO done!')\n",
    "\n",
    "sfa_gto = sfa_lin.SFALinearPulse(Ip, Up, omega, N, CEP, 'GTO')\n",
    "M_gto_grd = np.array(pool.starmap(sfa_gto.Mxz_List, zip(px_grd, repeat(py), pz_grd, repeat(gto_coeffs))))\n",
    "M_gto_sqr = np.abs(np.flip(M_gto_grd, 0))**2\n",
    "print('GTO done!')"
   ],
   "metadata": {
    "collapsed": false,
    "pycharm": {
     "name": "#%%\n",
     "is_executing": true
    }
   }
  },
  {
   "cell_type": "code",
   "execution_count": null,
   "outputs": [],
   "source": [
    "plt.figure(facecolor='white')\n",
    "plt.imshow(M_gto_sqr, interpolation='bicubic', cmap='inferno',\n",
    "                 norm=LogNorm(vmax=np.max(M_gto_sqr), vmin=np.max(M_gto_sqr)*1e-3),\n",
    "                 extent=(-1, 1, -1.5, 1.5))\n",
    "plt.xlabel(r'$p_\\perp$ (a.u.)')\n",
    "plt.ylabel(r'$p_\\parallel$ (a.u.)')\n",
    "#ax2.set_ylabel(r'$p_\\parallel$ (a.u.)')\n",
    "plt.title('Usual SPA')\n",
    "plt.colorbar()\n",
    "plt.show()"
   ],
   "metadata": {
    "collapsed": false,
    "pycharm": {
     "name": "#%%\n",
     "is_executing": true
    }
   }
  },
  {
   "cell_type": "code",
   "execution_count": null,
   "outputs": [],
   "source": [
    "plt.figure(facecolor='white')\n",
    "plt.imshow(M_mgto_sqr, interpolation='bicubic', cmap='inferno',\n",
    "                 norm=LogNorm(vmax=np.max(M_mgto_sqr), vmin=np.max(M_mgto_sqr)*1e-3),\n",
    "                 extent=(-1, 1, -1.5, 1.5))\n",
    "plt.xlabel(r'$p_\\perp$ (a.u.)')\n",
    "plt.ylabel(r'$p_\\parallel$ (a.u.)')\n",
    "#ax2.set_ylabel(r'$p_\\parallel$ (a.u.)')\n",
    "plt.title('Modified SPA')\n",
    "plt.colorbar()\n",
    "plt.show()"
   ],
   "metadata": {
    "collapsed": false,
    "pycharm": {
     "name": "#%%\n",
     "is_executing": true
    }
   }
  },
  {
   "cell_type": "code",
   "execution_count": null,
   "outputs": [],
   "source": [],
   "metadata": {
    "collapsed": false,
    "pycharm": {
     "name": "#%%\n"
    }
   }
  }
 ],
 "metadata": {
  "kernelspec": {
   "display_name": "Python 3",
   "language": "python",
   "name": "python3"
  },
  "language_info": {
   "codemirror_mode": {
    "name": "ipython",
    "version": 2
   },
   "file_extension": ".py",
   "mimetype": "text/x-python",
   "name": "python",
   "nbconvert_exporter": "python",
   "pygments_lexer": "ipython2",
   "version": "2.7.6"
  }
 },
 "nbformat": 4,
 "nbformat_minor": 0
}