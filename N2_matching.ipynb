{
 "cells": [
  {
   "cell_type": "code",
   "execution_count": 1,
   "metadata": {
    "collapsed": true,
    "pycharm": {
     "name": "#%%\n"
    }
   },
   "outputs": [],
   "source": [
    "import numpy as np\n",
    "import matplotlib.pyplot as plt\n",
    "from itertools import repeat\n",
    "from extra_packages.OutputInterface import OutputInterface\n",
    "import extra_packages.sperhical_expansion as se\n",
    "import SFALinearPulse as SFA_Lin\n",
    "from matplotlib.colors import LogNorm\n",
    "from scipy.special import sph_harm\n",
    "from scipy.optimize import curve_fit"
   ]
  },
  {
   "cell_type": "code",
   "execution_count": 2,
   "outputs": [],
   "source": [
    "import multiprocessing\n",
    "#import ipyparallel as ipp\n",
    "try:\n",
    "    cpus = multiprocessing.cpu_count()\n",
    "except NotImplementedError:\n",
    "    cpus = 8   # arbitrary default\n",
    "pool = multiprocessing.Pool(processes=cpus)"
   ],
   "metadata": {
    "collapsed": false,
    "pycharm": {
     "name": "#%%\n"
    }
   }
  },
  {
   "cell_type": "code",
   "execution_count": 3,
   "outputs": [],
   "source": [
    "omega = 0.057     # Frequency of light\n",
    "Up = 0.22         # Ponderomotive potential\n",
    "CEP = np.pi/2     # This choice should make things symmetric"
   ],
   "metadata": {
    "collapsed": false,
    "pycharm": {
     "name": "#%%\n"
    }
   }
  },
  {
   "cell_type": "code",
   "execution_count": 4,
   "outputs": [],
   "source": [
    "def plot_M_grid(M_grid, px_list, pz_list, log=False, log_scale = 1e-4):\n",
    "    \"\"\"\n",
    "    Function to plot the calculated grids\n",
    "    \"\"\"\n",
    "    plt.figure(facecolor='white', figsize=(12,6))\n",
    "\n",
    "    M2_grid = np.abs(M_grid)**2\n",
    "    MMax = np.max(M2_grid)\n",
    "\n",
    "    if log:\n",
    "        plt.imshow(np.flip(M2_grid,0), extent = (np.amin(pz_list), np.amax(pz_list), np.amin(px_list), np.amax(px_list)),\n",
    "                   cmap='inferno', norm=LogNorm(vmin=MMax*log_scale, vmax=MMax),\n",
    "                   interpolation = 'bicubic', aspect = 1.)\n",
    "    else:\n",
    "        plt.imshow(np.flip(M2_grid,0), extent = (np.amin(pz_list), np.amax(pz_list), np.amin(px_list), np.amax(px_list)),\n",
    "                   cmap='inferno', interpolation = 'bicubic', aspect = 1.)\n",
    "\n",
    "    plt.ylabel(\"$p_x$\")\n",
    "    plt.xlabel(\"$p_z$\")\n",
    "    plt.colorbar()\n",
    "    plt.show()"
   ],
   "metadata": {
    "collapsed": false,
    "pycharm": {
     "name": "#%%\n"
    }
   }
  },
  {
   "cell_type": "code",
   "execution_count": 5,
   "outputs": [],
   "source": [
    "file_name = 'output_files/N2.out'\n",
    "output = OutputInterface(file_name)\n",
    "orbital_nr = 5\n",
    "\n",
    "if orbital_nr == None:\n",
    "    orbital_nr = output.HOMO\n",
    "else:\n",
    "    output.load_orbital(orbital_nr)\n",
    "\n",
    "Ip = -output.saved_orbitals[orbital_nr][0]\n",
    "kappa = np.sqrt(2*Ip)\n",
    "GTO_coeffs = np.array(output.output_GTOs(orbital_nr))"
   ],
   "metadata": {
    "collapsed": false,
    "pycharm": {
     "name": "#%%\n"
    }
   }
  },
  {
   "cell_type": "code",
   "execution_count": 6,
   "outputs": [
    {
     "name": "stdout",
     "output_type": "stream",
     "text": [
      "Evaluating at r=10.0000 \t Nr. 100/100\n",
      "Now fitting!\n"
     ]
    },
    {
     "name": "stderr",
     "output_type": "stream",
     "text": [
      "/home/mads/.local/lib/python3.8/site-packages/scipy/optimize/minpack.py:833: OptimizeWarning: Covariance of the parameters could not be estimated\n",
      "  warnings.warn('Covariance of the parameters could not be estimated',\n"
     ]
    }
   ],
   "source": [
    "r_list = np.linspace(6, 10, 100)\n",
    "clm_array, f_lms = se.get_asymp_fit(output.eval_orbital_spherical, r_list, 50, Ip, orbital_nr=orbital_nr, return_flm=True)"
   ],
   "metadata": {
    "collapsed": false,
    "pycharm": {
     "name": "#%%\n"
    }
   }
  },
  {
   "cell_type": "code",
   "execution_count": 9,
   "outputs": [
    {
     "data": {
      "text/plain": "(-4.451674524067429+0j)"
     },
     "execution_count": 9,
     "metadata": {},
     "output_type": "execute_result"
    }
   ],
   "source": [
    "clm_array[0, 0, 0]"
   ],
   "metadata": {
    "collapsed": false,
    "pycharm": {
     "name": "#%%\n"
    }
   }
  },
  {
   "cell_type": "code",
   "execution_count": 17,
   "outputs": [
    {
     "data": {
      "text/plain": "<Figure size 432x288 with 1 Axes>",
      "image/png": "[encoded data removed]"
     },
     "metadata": {},
     "output_type": "display_data"
    }
   ],
   "source": [
    "def asymp(r, clm):\n",
    "    return clm * r**(1/kappa - 1) * np.exp(-kappa*r)\n",
    "\n",
    "sign, l, m = 0, 4, 0\n",
    "\n",
    "plt.figure(facecolor='white')\n",
    "plt.plot(r_list, np.real(f_lms[:, sign, l, m]), label='Laplace')\n",
    "plt.plot(r_list, np.real(asymp(r_list, clm_array[sign, l, m])), label='Asymp.')\n",
    "plt.xlabel('$r$ (a.u.)')\n",
    "plt.ylabel('Absolute amplitude')\n",
    "plt.legend(frameon=False)\n",
    "#plt.yscale('log')\n",
    "plt.show()"
   ],
   "metadata": {
    "collapsed": false,
    "pycharm": {
     "name": "#%%\n"
    }
   }
  },
  {
   "cell_type": "code",
   "execution_count": 16,
   "outputs": [
    {
     "data": {
      "text/plain": "0.6363"
     },
     "execution_count": 16,
     "metadata": {},
     "output_type": "execute_result"
    }
   ],
   "source": [
    "Ip"
   ],
   "metadata": {
    "collapsed": false,
    "pycharm": {
     "name": "#%%\n"
    }
   }
  },
  {
   "cell_type": "code",
   "execution_count": null,
   "outputs": [],
   "source": [],
   "metadata": {
    "collapsed": false,
    "pycharm": {
     "name": "#%%\n"
    }
   }
  }
 ],
 "metadata": {
  "kernelspec": {
   "display_name": "Python 3",
   "language": "python",
   "name": "python3"
  },
  "language_info": {
   "codemirror_mode": {
    "name": "ipython",
    "version": 2
   },
   "file_extension": ".py",
   "mimetype": "text/x-python",
   "name": "python",
   "nbconvert_exporter": "python",
   "pygments_lexer": "ipython2",
   "version": "2.7.6"
  }
 },
 "nbformat": 4,
 "nbformat_minor": 0
}